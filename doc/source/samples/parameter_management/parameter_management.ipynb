{
 "cells": [
  {
   "cell_type": "markdown",
   "metadata": {},
   "source": [
    "## Parameter management\n"
   ]
  },
  {
   "cell_type": "markdown",
   "metadata": {},
   "source": [
    "### Some prerequisites & basic definitions"
   ]
  },
  {
   "cell_type": "code",
   "execution_count": 1,
   "metadata": {},
   "outputs": [],
   "source": [
    "import numpy as np\n",
    "import pandas as pd\n",
    "import datetime as dt\n",
    "pd.set_option(\"mode.chained_assignment\", None) \n",
    "# in case eao is not installed\n",
    "import os\n",
    "import sys\n",
    "# in case eao is not installed, set path\n",
    "myDir = os.path.join(os.getcwd(), '../..')\n",
    "sys.path.append(myDir)\n",
    "addDir = os.path.join(os.getcwd(), '../../../..')\n",
    "sys.path.append(addDir)\n",
    "\n",
    "import eaopack as eao\n",
    "\n",
    "import matplotlib.pyplot as plt\n",
    "%matplotlib inline"
   ]
  },
  {
   "cell_type": "markdown",
   "metadata": {},
   "source": [
    "### Load sample portfolio (and the timegrid)\n",
    "The portfolio comes prefefined in a JSON. Let us have a look. "
   ]
  },
  {
   "cell_type": "code",
   "execution_count": 2,
   "metadata": {},
   "outputs": [
    {
     "data": {
      "image/png": "[encoded data removed]",
      "text/plain": [
       "<Figure size 640x480 with 1 Axes>"
      ]
     },
     "metadata": {},
     "output_type": "display_data"
    }
   ],
   "source": [
    "timegrid = eao.serialization.load_from_json(file_name='timegrid.json')\n",
    "portf    = eao.serialization.load_from_json(file_name='portfolio_simple_start.json')\n",
    "eao.network_graphs.create_graph(portf)"
   ]
  },
  {
   "cell_type": "markdown",
   "metadata": {},
   "source": [
    "As we can see. the portfolio is a simple setup with a sourcing possibility and two sales contracts at two locations. For flexibility there is a storage (which we will manipulate in the following)\n",
    "\n",
    "## Looking at parameters and setting them to new values\n",
    "As the next step we look at the parameters that define the portfolio. To this end, EAO provides three routines:\n",
    "* eao.io.get_params_tree   - to retrieve parameters as a dict and the paths to the parameters. To be used mainly with assets & portfolios\n",
    "* get_param                - to get parameter values using the path\n",
    "* set_param                - to change the parameters"
   ]
  },
  {
   "cell_type": "code",
   "execution_count": 3,
   "metadata": {},
   "outputs": [
    {
     "name": "stdout",
     "output_type": "stream",
     "text": [
      "__class__\n",
      "['assets', 0, '__class__']\n",
      "['assets', 0, 'asset_type']\n",
      "['assets', 0, 'end']\n",
      "['assets', 0, 'extra_costs']\n",
      "['assets', 0, 'freq']\n",
      "['assets', 0, 'max_cap']\n",
      "['assets', 0, 'min_cap']\n",
      "['assets', 0, 'name']\n",
      "['assets', 0, 'nodes', 0, '__class__']\n",
      "['assets', 0, 'nodes', 0, 'commodity']\n",
      "['assets', 0, 'nodes', 0, 'name']\n",
      "['assets', 0, 'nodes', 0, 'unit', '__class__']\n",
      "['assets', 0, 'nodes', 0, 'unit', 'factor']\n",
      "['assets', 0, 'nodes', 0, 'unit', 'flow']\n",
      "['assets', 0, 'nodes', 0, 'unit', 'volume']\n",
      "['assets', 0, 'periodicity']\n",
      "['assets', 0, 'periodicity_duration']\n",
      "['assets', 0, 'price']\n",
      "['assets', 0, 'profile']\n",
      "['assets', 0, 'start']\n",
      "['assets', 0, 'wacc']\n",
      "['assets', 1, '__class__']\n",
      "['assets', 1, 'asset_type']\n",
      "['assets', 1, 'end']\n",
      "['assets', 1, 'extra_costs']\n",
      "['assets', 1, 'freq']\n",
      "['assets', 1, 'max_cap']\n",
      "['assets', 1, 'min_cap']\n",
      "['assets', 1, 'name']\n",
      "['assets', 1, 'nodes', 0, '__class__']\n",
      "['assets', 1, 'nodes', 0, 'commodity']\n",
      "['assets', 1, 'nodes', 0, 'name']\n",
      "['assets', 1, 'nodes', 0, 'unit', '__class__']\n",
      "['assets', 1, 'nodes', 0, 'unit', 'factor']\n",
      "['assets', 1, 'nodes', 0, 'unit', 'flow']\n",
      "['assets', 1, 'nodes', 0, 'unit', 'volume']\n",
      "['assets', 1, 'periodicity']\n",
      "['assets', 1, 'periodicity_duration']\n",
      "['assets', 1, 'price']\n",
      "['assets', 1, 'profile']\n",
      "['assets', 1, 'start']\n",
      "['assets', 1, 'wacc']\n",
      "['assets', 2, '__class__']\n",
      "['assets', 2, 'asset_type']\n",
      "['assets', 2, 'end']\n",
      "['assets', 2, 'extra_costs']\n",
      "['assets', 2, 'freq']\n",
      "['assets', 2, 'max_cap']\n",
      "['assets', 2, 'min_cap']\n",
      "['assets', 2, 'name']\n",
      "['assets', 2, 'nodes', 0, '__class__']\n",
      "['assets', 2, 'nodes', 0, 'commodity']\n",
      "['assets', 2, 'nodes', 0, 'name']\n",
      "['assets', 2, 'nodes', 0, 'unit', '__class__']\n",
      "['assets', 2, 'nodes', 0, 'unit', 'factor']\n",
      "['assets', 2, 'nodes', 0, 'unit', 'flow']\n",
      "['assets', 2, 'nodes', 0, 'unit', 'volume']\n",
      "['assets', 2, 'periodicity']\n",
      "['assets', 2, 'periodicity_duration']\n",
      "['assets', 2, 'price']\n",
      "['assets', 2, 'profile']\n",
      "['assets', 2, 'start']\n",
      "['assets', 2, 'wacc']\n",
      "['assets', 3, '__class__']\n",
      "['assets', 3, 'asset_type']\n",
      "['assets', 3, 'costs_const']\n",
      "['assets', 3, 'costs_time_series']\n",
      "['assets', 3, 'efficiency']\n",
      "['assets', 3, 'end']\n",
      "['assets', 3, 'freq']\n",
      "['assets', 3, 'max_cap']\n",
      "['assets', 3, 'min_cap']\n",
      "['assets', 3, 'name']\n",
      "['assets', 3, 'nodes', 0, '__class__']\n",
      "['assets', 3, 'nodes', 0, 'commodity']\n",
      "['assets', 3, 'nodes', 0, 'name']\n",
      "['assets', 3, 'nodes', 0, 'unit', '__class__']\n",
      "['assets', 3, 'nodes', 0, 'unit', 'factor']\n",
      "['assets', 3, 'nodes', 0, 'unit', 'flow']\n",
      "['assets', 3, 'nodes', 0, 'unit', 'volume']\n",
      "['assets', 3, 'nodes', 1, '__class__']\n",
      "['assets', 3, 'nodes', 1, 'commodity']\n",
      "['assets', 3, 'nodes', 1, 'name']\n",
      "['assets', 3, 'nodes', 1, 'unit', '__class__']\n",
      "['assets', 3, 'nodes', 1, 'unit', 'factor']\n",
      "['assets', 3, 'nodes', 1, 'unit', 'flow']\n",
      "['assets', 3, 'nodes', 1, 'unit', 'volume']\n",
      "['assets', 3, 'periodicity']\n",
      "['assets', 3, 'periodicity_duration']\n",
      "['assets', 3, 'profile']\n",
      "['assets', 3, 'start']\n",
      "['assets', 3, 'wacc']\n",
      "['assets', 4, '__class__']\n",
      "['assets', 4, 'asset_type']\n",
      "['assets', 4, 'block_size']\n",
      "['assets', 4, 'cap_in']\n",
      "['assets', 4, 'cap_out']\n",
      "['assets', 4, 'cost_in']\n",
      "['assets', 4, 'cost_out']\n",
      "['assets', 4, 'cost_store']\n",
      "['assets', 4, 'eff_in']\n",
      "['assets', 4, 'end']\n",
      "['assets', 4, 'end_level']\n",
      "['assets', 4, 'freq']\n",
      "['assets', 4, 'inflow']\n",
      "['assets', 4, 'max_store_duration']\n",
      "['assets', 4, 'name']\n",
      "['assets', 4, 'no_simult_in_out']\n",
      "['assets', 4, 'nodes', 0, '__class__']\n",
      "['assets', 4, 'nodes', 0, 'commodity']\n",
      "['assets', 4, 'nodes', 0, 'name']\n",
      "['assets', 4, 'nodes', 0, 'unit', '__class__']\n",
      "['assets', 4, 'nodes', 0, 'unit', 'factor']\n",
      "['assets', 4, 'nodes', 0, 'unit', 'flow']\n",
      "['assets', 4, 'nodes', 0, 'unit', 'volume']\n",
      "['assets', 4, 'periodicity']\n",
      "['assets', 4, 'periodicity_duration']\n",
      "['assets', 4, 'price']\n",
      "['assets', 4, 'profile']\n",
      "['assets', 4, 'size']\n",
      "['assets', 4, 'start']\n",
      "['assets', 4, 'start_level']\n",
      "['assets', 4, 'wacc']\n"
     ]
    }
   ],
   "source": [
    "[params, param_dict] = eao.io.get_params_tree(portf)\n",
    "for p in params:\n",
    "    print(p)"
   ]
  },
  {
   "cell_type": "markdown",
   "metadata": {},
   "source": [
    "Looking at the parameter tree, note that we extracted the whole tree of parameters in the portfolio. Each entry is a list, that points downwards into the nested object (portfolio --> asset, --> ...)\n",
    "\n",
    "To access the parameter, we can use any of those entries. Let us concentrate on the storage (asset no. 4):"
   ]
  },
  {
   "cell_type": "code",
   "execution_count": 4,
   "metadata": {},
   "outputs": [
    {
     "data": {
      "text/plain": [
       "{'__class__': 'Asset',\n",
       " 'asset_type': 'Storage',\n",
       " 'block_size': None,\n",
       " 'cap_in': 30,\n",
       " 'cap_out': 30,\n",
       " 'cost_in': 0.2,\n",
       " 'cost_out': 0.2,\n",
       " 'cost_store': 0.0,\n",
       " 'eff_in': 1.0,\n",
       " 'end': None,\n",
       " 'end_level': 5,\n",
       " 'freq': None,\n",
       " 'inflow': 0.0,\n",
       " 'max_store_duration': None,\n",
       " 'name': 'storage',\n",
       " 'no_simult_in_out': False,\n",
       " 'nodes': [{'__class__': 'Node',\n",
       "   'commodity': None,\n",
       "   'name': 'location b',\n",
       "   'unit': {'__class__': 'Unit',\n",
       "    'factor': 1.0,\n",
       "    'flow': 'MW',\n",
       "    'volume': 'MWh'}}],\n",
       " 'periodicity': None,\n",
       " 'periodicity_duration': None,\n",
       " 'price': None,\n",
       " 'profile': None,\n",
       " 'size': 48,\n",
       " 'start': None,\n",
       " 'start_level': 5,\n",
       " 'wacc': 0.0}"
      ]
     },
     "execution_count": 4,
     "metadata": {},
     "output_type": "execute_result"
    }
   ],
   "source": [
    "param_dict['assets'][4]\n"
   ]
  },
  {
   "cell_type": "markdown",
   "metadata": {},
   "source": [
    "Now, get direct access via tree entries, e.g. the fill level on start up"
   ]
  },
  {
   "cell_type": "code",
   "execution_count": 5,
   "metadata": {},
   "outputs": [
    {
     "name": "stdout",
     "output_type": "stream",
     "text": [
      "5\n"
     ]
    }
   ],
   "source": [
    "print(eao.io.get_param(portf, ['assets', 4, 'start_level']))"
   ]
  },
  {
   "cell_type": "markdown",
   "metadata": {},
   "source": [
    "Going via the complete portfolio is one way. However, it is also possible to directly go via specific assets:"
   ]
  },
  {
   "cell_type": "code",
   "execution_count": 6,
   "metadata": {},
   "outputs": [
    {
     "name": "stdout",
     "output_type": "stream",
     "text": [
      "price sales b\n"
     ]
    }
   ],
   "source": [
    "print(eao.io.get_param(portf.get_asset('sales b'), ['price']))"
   ]
  },
  {
   "cell_type": "markdown",
   "metadata": {},
   "source": [
    "Let us manipulate the fill level. Note that this could also be done by diving directly into the object ..."
   ]
  },
  {
   "cell_type": "code",
   "execution_count": 7,
   "metadata": {},
   "outputs": [
    {
     "name": "stdout",
     "output_type": "stream",
     "text": [
      "4\n"
     ]
    }
   ],
   "source": [
    "portf.get_asset('storage').start_level = 4\n",
    "print(portf.get_asset('storage').start_level)"
   ]
  },
  {
   "cell_type": "markdown",
   "metadata": {},
   "source": [
    "... but setting parameters this way is actually relatively insecure, since this corcumvents proper initialization. Therefore, it is better to use the set_garam routine:"
   ]
  },
  {
   "cell_type": "code",
   "execution_count": 8,
   "metadata": {},
   "outputs": [
    {
     "name": "stdout",
     "output_type": "stream",
     "text": [
      "6\n"
     ]
    }
   ],
   "source": [
    "portf = eao.io.set_param(portf,['assets', 4, 'start_level'], 6 )\n",
    "print(portf.get_asset('storage').start_level)"
   ]
  },
  {
   "cell_type": "markdown",
   "metadata": {},
   "source": [
    "This routine properly extracts parameters using the serialization machinery and re-initiates the objects. Therefore, all tests are called.\n",
    "\n",
    "Let us take a look by setting an invalid parameter. In this case we set the storage size to a value which is smaller than the initial fill level:"
   ]
  },
  {
   "cell_type": "code",
   "execution_count": 9,
   "metadata": {},
   "outputs": [
    {
     "name": "stdout",
     "output_type": "stream",
     "text": [
      "Not possible\n"
     ]
    }
   ],
   "source": [
    "try:\n",
    "    portf = eao.io.set_param(portf, ['assets', 4, 'size'], 1.)\n",
    "except Exception as error:\n",
    "    print('Not possible')\n",
    "    pass\n"
   ]
  },
  {
   "cell_type": "markdown",
   "metadata": {},
   "source": [
    "### Sample: Looping different parameters\n",
    "\n",
    "Here we do a simple loop on the storage size to demonstrate how to manipulate parameters for parameter studies or how to react to live data"
   ]
  },
  {
   "cell_type": "code",
   "execution_count": 10,
   "metadata": {},
   "outputs": [],
   "source": [
    "# sample prices\n",
    "prices = {'price sourcing': 5.*np.sin(np.linspace(0.,6., timegrid.T)),\n",
    "         'price sales a' : np.ones(timegrid.T)*2.,\n",
    "         'price sales b' : 5.+5.*np.sin(np.linspace(0.,6., timegrid.T))  }"
   ]
  },
  {
   "cell_type": "markdown",
   "metadata": {},
   "source": [
    "Current storage size"
   ]
  },
  {
   "cell_type": "code",
   "execution_count": 11,
   "metadata": {},
   "outputs": [
    {
     "name": "stdout",
     "output_type": "stream",
     "text": [
      "48\n",
      "MWh\n"
     ]
    }
   ],
   "source": [
    "print(eao.io.get_param(portf, ['assets', 4, 'size']))\n",
    "print(eao.io.get_param(portf, ['assets', 4, 'nodes', 0,'unit','volume']))"
   ]
  },
  {
   "cell_type": "code",
   "execution_count": 12,
   "metadata": {},
   "outputs": [],
   "source": [
    "storage_sizes = range(10, 150, 5)\n",
    "values = [] # collect results\n",
    "\n",
    "for my_size in storage_sizes:\n",
    "    portf = eao.io.set_param(portf, ['assets', 4, 'size'], my_size )\n",
    "    optim_problem  = portf.setup_optim_problem(timegrid = timegrid, prices=prices)\n",
    "    result         = optim_problem.optimize()\n",
    "    values.append(result.value)\n",
    "# output = eao.io.extract_output(portf, optim_problem, result)"
   ]
  },
  {
   "cell_type": "code",
   "execution_count": 13,
   "metadata": {},
   "outputs": [
    {
     "data": {
      "image/png": "[encoded data removed]",
      "text/plain": [
       "<Figure size 1200x300 with 1 Axes>"
      ]
     },
     "metadata": {},
     "output_type": "display_data"
    }
   ],
   "source": [
    "fig = plt.figure(figsize = (12,3))\n",
    "plt.bar(storage_sizes, values, width = 4)\n",
    "plt.ylim((6000, 7000))\n",
    "plt.xlabel('storage size')\n",
    "plt.ylabel('total portfolio value')\n",
    "plt.show()"
   ]
  },
  {
   "cell_type": "markdown",
   "metadata": {},
   "source": [
    "This is just for demonstration purpose. However - neat to see how the value add of extra storage size decreases."
   ]
  }
 ],
 "metadata": {
  "hide_input": false,
  "kernelspec": {
   "display_name": "new_versions",
   "language": "python",
   "name": "python3"
  },
  "language_info": {
   "codemirror_mode": {
    "name": "ipython",
    "version": 3
   },
   "file_extension": ".py",
   "mimetype": "text/x-python",
   "name": "python",
   "nbconvert_exporter": "python",
   "pygments_lexer": "ipython3",
   "version": "3.11.4"
  },
  "toc": {
   "base_numbering": 1,
   "nav_menu": {},
   "number_sections": true,
   "sideBar": true,
   "skip_h1_title": false,
   "title_cell": "Table of Contents",
   "title_sidebar": "Contents",
   "toc_cell": false,
   "toc_position": {},
   "toc_section_display": true,
   "toc_window_display": false
  }
 },
 "nbformat": 4,
 "nbformat_minor": 2
}
